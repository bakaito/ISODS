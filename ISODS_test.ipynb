{
 "cells": [
  {
   "cell_type": "code",
   "execution_count": null,
   "metadata": {},
   "outputs": [],
   "source": [
    "# test\n",
    "import pickle\n",
    "import pandas as pd\n",
    "import numpy as np\n",
    "\n",
    "# load data (enter the path to the file of data to be tested here)\n",
    "df_test=pd.read_csv(\"testing_data_sentiment.csv\")\n",
    "\n",
    "# cleaning \n",
    "def  clean_text(df, text_field):\n",
    "    import re\n",
    "    file=open(\"vietnamese-stopwords.txt\")\n",
    "    stp=file.read().split(\"\\n\")\n",
    "    pat = r'\\b(?:{})\\b'.format('|'.join(stp))\n",
    "    for i in text_field:\n",
    "        df[i] = df[i].apply(lambda elem: re.sub(r\"[\\|]\", \"\", elem))  \n",
    "        df[i] = df[i].str.replace(pat, '')\n",
    "    return df\n",
    "\n",
    "def pos(df, text_field, col):\n",
    "    from pyvi import ViTokenizer, ViPosTagger\n",
    "    m=[]\n",
    "    for i in range(len(df)):\n",
    "        q_pos=ViPosTagger.postagging(ViTokenizer.tokenize(df[text_field].iloc[i]))\n",
    "        dict_q_pos=dict(zip(q_pos[0], q_pos[1]))\n",
    "        lst=[x for x, y in dict_q_pos.items() if y in [\"N\", \"Ny\", \"Np\", \"Nu\", \"Nc\", \"A\", \"V\"]]\n",
    "        l=[[\"\".join(x) for x in lst]]\n",
    "        m.append([\" \".join(x) for x in l])\n",
    "    return pd.DataFrame(m, columns=[col])\n",
    "\n",
    "clean_text(df_test, [\"question\", \"answer\"])\n",
    "df_test[\"q_pos\"]=pos(df_test,\"question\", \"q_pos\")\n",
    "df_test[\"a_pos\"]=pos(df_test,\"answer\", \"a_pos\")\n",
    "\n",
    "\n",
    "# test\n",
    "xgb_model = pickle.load(open('xgb_model.pckl', 'rb'))\n",
    "y_pred=xgb_model.predict(df_test['q_pos']+df_test['a_pos'])\n",
    "y_pred=np.where(y_pred==0, \"N\", \"Y\")\n",
    "df_test=pd.DataFrame({\"num\":df_test.index+1, \"label\":y_pred})\n",
    "df_test.to_csv(\"Sam_submission.csv\", index=False)"
   ]
  }
 ],
 "metadata": {
  "language_info": {
   "codemirror_mode": {
    "name": "ipython",
    "version": 3
   },
   "file_extension": ".py",
   "mimetype": "text/x-python",
   "name": "python",
   "nbconvert_exporter": "python",
   "pygments_lexer": "ipython3",
   "version": "3.6.12"
  }
 },
 "nbformat": 4,
 "nbformat_minor": 4
}
